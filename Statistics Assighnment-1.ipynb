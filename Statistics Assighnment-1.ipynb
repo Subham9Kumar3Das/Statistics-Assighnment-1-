{
 "cells": [
  {
   "cell_type": "markdown",
   "id": "a8567525-28c3-4a35-91e5-90573faf000a",
   "metadata": {
    "jp-MarkdownHeadingCollapsed": true,
    "tags": []
   },
   "source": [
    "###  Q1. What is Statistics?"
   ]
  },
  {
   "cell_type": "markdown",
   "id": "b02916d6-b495-476a-b213-4fbd33c59dac",
   "metadata": {},
   "source": [
    "Ans:- Statistics is a science of collecting,organizing and anzlyzing data."
   ]
  },
  {
   "cell_type": "markdown",
   "id": "49dab517-dffe-4167-ae66-af56cc9df5cb",
   "metadata": {
    "jp-MarkdownHeadingCollapsed": true,
    "tags": []
   },
   "source": [
    "### Q2.Define the different types of statistics and give an example of when each type might be used."
   ]
  },
  {
   "cell_type": "markdown",
   "id": "3b303636-8406-457a-b080-2423a4e6a302",
   "metadata": {},
   "source": [
    "* DESCRIPTIVE: Type of statistics that consists of organizing and summarizing data.\n",
    "  * Eg :-Avg height of ac class.\n",
    "* INFERENTIAL: Type of statistics that consists of data that can be measured to give a conclusion.\n",
    "  * Eg :-Are the heights of of this class is similar to the heights of the students of the schoo."
   ]
  },
  {
   "cell_type": "markdown",
   "id": "c544f39c-4e03-4464-a1d8-ddc649ab2655",
   "metadata": {
    "jp-MarkdownHeadingCollapsed": true,
    "tags": []
   },
   "source": [
    "### Q3. What are the different types of data and how do they differ from each other? Provide an example of each type of data."
   ]
  },
  {
   "cell_type": "markdown",
   "id": "ed1a610e-2352-4c03-9bc4-c44b42f9cb7b",
   "metadata": {},
   "source": [
    "Different types of data are Qualitative and Quantitative.Qualitative is categorical where Quantitative is numerical.Qualitative statistics like Gender and Quantitative Statistics like No of students in the class. "
   ]
  },
  {
   "cell_type": "markdown",
   "id": "e3243fed-c98e-4645-a248-acd8c8f4cdd3",
   "metadata": {
    "jp-MarkdownHeadingCollapsed": true,
    "tags": []
   },
   "source": [
    "### Q4. Categorise the following datasets with respect to quantitative and qualitative data types:\n",
    "* (i) Grading in exam: A+, A, B+, B, C+, C, D, E\n",
    "* (ii) Colour of mangoes: yellow, green, orange, red\n",
    "* (iii) Height data of a class: [178.9, 179, 179.5, 176, 177.2, 178.3, 175.8,...]\n",
    "* (iv) Number of mangoes exported by a farm: [500, 600, 478, 672, ...]\n"
   ]
  },
  {
   "cell_type": "markdown",
   "id": "7dd19f84-f48b-4a9a-bc36-156c6e916906",
   "metadata": {},
   "source": [
    "ANS:-\n",
    "* (i) Ordinal.\n",
    "* (ii) Nominal.\n",
    "* (iii) Continuous.\n",
    "* (iv) Discrete."
   ]
  },
  {
   "cell_type": "markdown",
   "id": "f2c87e68-141d-47ae-9745-38f6e6f16dfb",
   "metadata": {
    "jp-MarkdownHeadingCollapsed": true,
    "tags": []
   },
   "source": [
    "### Q5. Explain the concept of levels of measurement and give an example of a variable for each level."
   ]
  },
  {
   "cell_type": "markdown",
   "id": "a8578619-6bbb-45e1-8323-18945043f470",
   "metadata": {},
   "source": [
    "Levels of measurement refer to the different scales used to quantify and categorize variables in statistics:\n",
    "\n",
    "* 1. Nominal: Represents categories without any inherent order; e.g., colors (red, blue, green).\n",
    "* 2. Ordinal: Demonstrates a ranking or order; e.g., education levels (high school, college, graduate)."
   ]
  },
  {
   "cell_type": "markdown",
   "id": "d044a4a6-59d2-4870-a767-aac2ad8f8252",
   "metadata": {
    "jp-MarkdownHeadingCollapsed": true,
    "tags": []
   },
   "source": [
    "### Q6. Why is it important to understand the level of measurement when analyzing data? Provide an example to illustrate your answer."
   ]
  },
  {
   "cell_type": "markdown",
   "id": "1d409540-aa2a-41f5-9f7f-5468620b933c",
   "metadata": {},
   "source": [
    "Understanding the level of measurement is important when analyzing data because it helps us choose the right way to work with the data. For example, if we have data about people's favorite colors (like red, blue, or green), we should treat it differently than data about their education levels (high school, college, graduate) because they have different properties. Using the right methods ensures we get meaningful and accurate results from the data."
   ]
  },
  {
   "cell_type": "markdown",
   "id": "a55ada5e-cf9a-4e70-b976-a10af143c401",
   "metadata": {
    "jp-MarkdownHeadingCollapsed": true,
    "tags": []
   },
   "source": [
    "### Q7. How nominal data type is different from ordinal data type. "
   ]
  },
  {
   "cell_type": "markdown",
   "id": "25eb7f9d-5a30-4279-95bb-52847dbf0ce4",
   "metadata": {},
   "source": [
    "Nominal data type can not be distinguished by rank where Ordinal data type can be distinguished by rank."
   ]
  },
  {
   "cell_type": "markdown",
   "id": "b76f76cd-3306-4eb5-9f63-7a8d8e34f935",
   "metadata": {
    "jp-MarkdownHeadingCollapsed": true,
    "tags": []
   },
   "source": [
    "### Q8. Which type of plot can be used to display data in terms of range?"
   ]
  },
  {
   "cell_type": "markdown",
   "id": "49149ce5-f5d5-4065-a9a4-cc280ab08925",
   "metadata": {},
   "source": [
    "A Box Plot is generally used to display data in terms of range."
   ]
  },
  {
   "cell_type": "markdown",
   "id": "a9ab49b1-1c59-4cf9-8271-4b4193a9da57",
   "metadata": {},
   "source": [
    "### Q9. Describe the difference between descriptive and inferential statistics. Give an example of each type of statistics and explain how they are used."
   ]
  },
  {
   "cell_type": "markdown",
   "id": "5682f812-fe8f-4828-b975-dbcab063ad18",
   "metadata": {},
   "source": [
    "Descriptive statistics summarize and describe data, such as mean and standard deviation (e.g., average height and variation in a group). Inferential statistics make predictions or draw conclusions about a population based on a sample, like hypothesis testing (e.g., determining if a new drug's effectiveness differs from a placebo based on a study sample)."
   ]
  },
  {
   "cell_type": "markdown",
   "id": "6385280f-eb1a-4895-a203-74765ffe8826",
   "metadata": {},
   "source": [
    "### Q10. What are some common measures of central tendency and variability used in statistics? Explain how each measure can be used to describe a dataset."
   ]
  },
  {
   "cell_type": "markdown",
   "id": "61c5b541-c15f-487b-be38-fefd744e5491",
   "metadata": {},
   "source": [
    "* Common measures of central tendency are :-\n",
    "   * MEAN:-It gives the average value of a data sheet.\n",
    "   * MEDIAN:- The middle value of a dataset when arranged in ascending or descending order. It is less affected by extreme values and gives a representative value for the \"typical\" observation.\n",
    "   * MODE:-"
   ]
  }
 ],
 "metadata": {
  "kernelspec": {
   "display_name": "Python 3 (ipykernel)",
   "language": "python",
   "name": "python3"
  },
  "language_info": {
   "codemirror_mode": {
    "name": "ipython",
    "version": 3
   },
   "file_extension": ".py",
   "mimetype": "text/x-python",
   "name": "python",
   "nbconvert_exporter": "python",
   "pygments_lexer": "ipython3",
   "version": "3.10.8"
  }
 },
 "nbformat": 4,
 "nbformat_minor": 5
}
